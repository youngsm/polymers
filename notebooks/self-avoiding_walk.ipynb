{
 "cells": [
  {
   "cell_type": "code",
   "execution_count": 25,
   "metadata": {},
   "outputs": [],
   "source": [
    "%reload_ext autoreload\n",
    "import numpy as np\n",
    "import matplotlib.pyplot as plt\n",
    "from polymers import plot_walk\n",
    "from numba import njit\n",
    "\n",
    "rng = np.random.default_rng(123)"
   ]
  },
  {
   "cell_type": "code",
   "execution_count": 26,
   "metadata": {},
   "outputs": [],
   "source": [
    "def possible_steps(*, d=2):\n",
    "    \"\"\"returns a list of all possible steps of length 1 in d dimensions\n",
    "    \n",
    "    e.g.,\n",
    "    ```python\n",
    "    >>> gen_possible_steps(2)\n",
    "    array([[-1.,  0.],\n",
    "           [ 0., -1.],\n",
    "           [ 0.,  1.],\n",
    "           [ 1.,  0.]])\n",
    "    ```\n",
    "    \"\"\"\n",
    "    return np.vstack([-np.eye(d), np.eye(d)[::-1]])"
   ]
  },
  {
   "cell_type": "code",
   "execution_count": 27,
   "metadata": {},
   "outputs": [
    {
     "data": {
      "image/png": "[encoded data removed]",
      "text/plain": [
       "<Figure size 800x800 with 1 Axes>"
      ]
     },
     "metadata": {},
     "output_type": "display_data"
    }
   ],
   "source": [
    "def simpl_rnd_walk(n, *, d=2):\n",
    "    \"\"\"\n",
    "    Generates a simple random walk of length n in d dimensions:\n",
    "    \n",
    "    1. Start at the origin\n",
    "    2. At each step, move one unit in a random direction\n",
    "    3. Repeat until n steps have been taken\n",
    "    \n",
    "    Args:\n",
    "        n (int): the length of the walk\n",
    "        d (int): the number of dimensions\n",
    "    Returns:\n",
    "        (x, y) (list, list): Random walk of length n\n",
    "    \"\"\"\n",
    "    walk = np.array([[0] for _ in range(d)])\n",
    "    deltas = possible_steps(d=d) #possible directions for the 2D lattice\n",
    "    for _ in range(n):\n",
    "        step = deltas[rng.integers(0,len(deltas))]   #direction chosen at random\n",
    "        walk = np.hstack([walk, (walk[:,-1]+step).reshape(-1,1)])\n",
    "\n",
    "    dim_names = \"xyz\" if d <= 3 else list(range(d))\n",
    "    out_dict = {}\n",
    "    for i in range(d):\n",
    "        out_dict[dim_names[i]] = walk[i]\n",
    "    out_dict.update(dict(n=n))\n",
    "    return out_dict\n",
    "plot_walk(simpl_rnd_walk(100), dx=0.05, gap=0.07)"
   ]
  },
  {
   "cell_type": "code",
   "execution_count": 28,
   "metadata": {},
   "outputs": [],
   "source": [
    "def is_valid(*dims):\n",
    "    \"\"\"\n",
    "    Checks if the walk is non-intersecting by checking for any duplicates (x,y) coordinates.\n",
    "    \"\"\"\n",
    "    return len(dims[0]) == len(set(zip(*dims)))\n"
   ]
  },
  {
   "cell_type": "code",
   "execution_count": 29,
   "metadata": {},
   "outputs": [],
   "source": [
    "def naive_self_avoiding_walk(n, *, d=2, ntries=1):\n",
    "    \"\"\"\n",
    "    Generates a self-avoiding walk of length n in d dimensions via rejection sampling\n",
    "    \n",
    "    Args:\n",
    "        n (int): the length of the walk\n",
    "        d (int): the number of dimensions\n",
    "    Returns:\n",
    "        (x, y) (list, list): Self-avoiding walk of length n\n",
    "    \"\"\"\n",
    "\n",
    "    walk = np.array([[0] for _ in range(d)])\n",
    "    candidate_steps = possible_steps(d=d)      # left, up, right, down in d dimensions\n",
    "    \n",
    "    while True:\n",
    "        if len(walk[0]) == n+1:                                # if we've reached the desired length, stop\n",
    "            break\n",
    "\n",
    "        feasible_steps = []                              # check which possible steps are valid (i.e. don't intersect)\n",
    "        for step in candidate_steps:\n",
    "            if tuple(walk[:,-1]+step) not in zip(*walk):\n",
    "                feasible_steps.append(step)\n",
    "            \n",
    "        if len(feasible_steps) > 0:                      # if there are valid steps, take one at random\n",
    "            step = feasible_steps[rng.integers(0,len(feasible_steps))]\n",
    "            walk = np.hstack([walk, (walk[:,-1]+step).reshape(-1,1)])\n",
    "        else:                                            # if there are no valid steps, we're stuck :-( let's try again\n",
    "            try:\n",
    "                return naive_self_avoiding_walk(n, d=d, ntries=ntries+1)\n",
    "            except RecursionError:\n",
    "                break\n",
    "\n",
    "    return walk\n",
    "\n",
    "def dimer(n):\n",
    "    \"\"\"\n",
    "    Generates a SAW of length n by dimerization\n",
    "    \n",
    "    Args:\n",
    "        n (int): the length of the walk\n",
    "    Returns:\n",
    "        (x, y) (list, list): SAW of length n\n",
    "    \"\"\"\n",
    "    if n <= 200:\n",
    "        walk = naive_self_avoiding_walk(n) #base case uses the myopic algorithm\n",
    "        return walk\n",
    "    else:\n",
    "        not_saw = 1\n",
    "        while not_saw:\n",
    "            walk_1 = dimer(n//2)  #recursive call\n",
    "            walk_2 = dimer(n-n//2)  #recursive call\n",
    "            \n",
    "            walk_2 = walk_2 + walk_1[:,-1].reshape(-1,1)  #translates the second walk to the end of the first one\n",
    "            walk_concat = np.hstack([walk_1, walk_2[:,1:]])  #concatenates the x coordinates\n",
    "            if is_valid(*walk_concat):   #if walk obtained is SAW, stop\n",
    "                not_saw = 0\n",
    "        return walk_concat"
   ]
  },
  {
   "cell_type": "code",
   "execution_count": 30,
   "metadata": {},
   "outputs": [
    {
     "data": {
      "text/plain": [
       "array([[[ 1., -0.],\n",
       "        [ 0.,  1.]],\n",
       "\n",
       "       [[ 0., -1.],\n",
       "        [ 1.,  0.]],\n",
       "\n",
       "       [[-1., -0.],\n",
       "        [ 0., -1.]],\n",
       "\n",
       "       [[-0.,  1.],\n",
       "        [-1., -0.]],\n",
       "\n",
       "       [[ 1.,  0.],\n",
       "        [ 0., -1.]],\n",
       "\n",
       "       [[ 0.,  1.],\n",
       "        [ 1., -0.]],\n",
       "\n",
       "       [[-1.,  0.],\n",
       "        [ 0.,  1.]],\n",
       "\n",
       "       [[-0., -1.],\n",
       "        [-1.,  0.]]])"
      ]
     },
     "execution_count": 30,
     "metadata": {},
     "output_type": "execute_result"
    }
   ],
   "source": [
    "def r_k(k, n):\n",
    "    \"\"\"\n",
    "    r_k is a rotation matrix, expressing a counterclockwise \n",
    "    rotation through an angle of 2πk/n.\n",
    "    \"\"\"\n",
    "    return np.round(np.array([\n",
    "        [np.cos(2*np.pi*k/n), -np.sin(2*np.pi*k/n)],\n",
    "        [np.sin(2*np.pi*k/n), np.cos(2*np.pi*k/n)]\n",
    "        ]), 4)\n",
    "    \n",
    "def s_k(k, n):\n",
    "    \"\"\"\n",
    "    s_k is a reflection matrix, expressing a reflection \n",
    "    through the line y = tan(πk/n)x.\n",
    "    \"\"\"\n",
    "    return np.round(np.array([\n",
    "        [np.cos(2*np.pi*k/n), np.sin(2*np.pi*k/n)],\n",
    "        [np.sin(2*np.pi*k/n), -np.cos(2*np.pi*k/n)]\n",
    "        ]), 4)\n",
    "\n",
    "D4 = np.array([r_k(k, 4) for k in range(4)] + [s_k(k, 4) for k in range(4)])\n",
    "D4"
   ]
  },
  {
   "cell_type": "code",
   "execution_count": 31,
   "metadata": {},
   "outputs": [],
   "source": [
    "import numpy as np\n",
    "\n",
    "import functools\n",
    "\n",
    "def random_transform(dim=3, rng=np.random.default_rng(1)):\n",
    "    mx = np.eye(dim).astype(int)\n",
    "    for i in range(dim):\n",
    "        ival = int((i+1)*rng.random())\n",
    "        \n",
    "        # swap rows\n",
    "        for ii in range(dim):\n",
    "            mx[i, ii] = mx[ival, ii]\n",
    "            mx[ival, ii] = 0\n",
    "        \n",
    "        if rng.random()<0.5:\n",
    "            mx[ival, i] = -1\n",
    "        else:\n",
    "            mx[ival, i] = 1      \n",
    "    return mx\n",
    "\n",
    "@functools.lru_cache(maxsize=None)\n",
    "def Gd(dim=2):\n",
    "    t = np.unique([random_transform(dim) for _ in range(10000)], axis=0)\n",
    "    t = [t for t in t if not np.allclose(t, np.eye(dim))]\n",
    "    return t\n",
    "\n",
    "def rand_Gd(dim=2, rng=np.random.default_rng(1)):\n",
    "    return Gd(dim=dim)[rng.integers(0, len(Gd(dim=dim)))]"
   ]
  },
  {
   "cell_type": "markdown",
   "metadata": {},
   "source": [
    "From Madras & Sokal:\n",
    "\n",
    "1. A site on the walk is chosen at random and used as a pivot point\n",
    "2. A random symmetry operation is chosen and applied to the part of the walk subsequent to eh pivot point, using the pivot point as the origin.\n",
    "3. If the walk is self-avoiding, the new walk is accepted; otherwise, the old walk is retained.\n",
    "\n",
    "\n",
    "Let G be the group of orthogonal transformationsa bout the prigin that leave invariant the lattice $\\mathbb{Z}^d$.Then the symmeytry operation $g \\in G$ is a matrix $d \\times d$ with integer entries and determinant $\\pm 1$. For $d=2$, the group $G$ is the dihedral group $D_4$ [[1]](https://en.wikipedia.org/wiki/Dihedral_group).\n",
    "\n",
    "\n",
    "[1] https://en.wikipedia.org/wiki/Dihedral_group\n",
    "\n"
   ]
  },
  {
   "cell_type": "code",
   "execution_count": 41,
   "metadata": {},
   "outputs": [],
   "source": [
    "def Xe(w):\n",
    "    return w[-1]\n",
    "\n",
    "def X(w):\n",
    "    return w.sum(axis=0)\n",
    "\n",
    "@njit\n",
    "def X2(w):\n",
    "    out = 0\n",
    "    for i in range(len(w)):\n",
    "        out += (w[i] * w[i]).sum()\n",
    "    return out\n",
    "\n",
    "def Re2(w):\n",
    "    return np.linalg.norm((w(-1) - w[0]))**2\n",
    "\n",
    "def Rg2(w):\n",
    "    return X2(w)/len(w) - 1/len(w)**2 * (X(w) @ X(w))\n",
    "\n",
    "def Rm2(w):\n",
    "    \"\"\"mean-square end-to-end distance\"\"\"\n",
    "    n = len(w)\n",
    "    return 0.5 + 0.5 * Xe(w) @ X(w) - 1/n * Xe(w) @ X(w) + 1/n * X2(w)"
   ]
  },
  {
   "cell_type": "code",
   "execution_count": 48,
   "metadata": {},
   "outputs": [
    {
     "data": {
      "text/plain": [
       "58.0"
      ]
     },
     "execution_count": 48,
     "metadata": {},
     "output_type": "execute_result"
    }
   ],
   "source": [
    "from polymers.naive import naive_self_avoiding_walk\n",
    "Rm2(naive_self_avoiding_walk(10, 2))"
   ]
  },
  {
   "cell_type": "code",
   "execution_count": 35,
   "metadata": {},
   "outputs": [],
   "source": [
    "from tqdm import trange\n",
    "\n",
    "def pivot(n, samples, burn_in=0, *, d=2, save_walks=True):\n",
    "    \"\"\"\n",
    "    Initialized with a straight line in the 1st dimension and zeros in all other dimensions.\n",
    "    \n",
    "    At every step, we:\n",
    "    1. choose a random point on the line, and use it as a pivot point\n",
    "    2. choose a random transformation from the set of possible transformations\n",
    "    3. apply the transformation to the part of the walk before the pivot point around the pivot point\n",
    "        (i.e. using it as the origin)\n",
    "    4. if the resulting walk is valid (i.e. non-intersecting), keep it. otherwise, discard it!\n",
    "    \"\"\"\n",
    "    walk = np.zeros((d, n+1))\n",
    "    walk[0] = np.arange(n+1)\n",
    "\n",
    "    if save_walks:\n",
    "        results = []\n",
    "    else:\n",
    "        results = None\n",
    "\n",
    "    successful_pivots = 0\n",
    "    for sample in trange(samples):\n",
    "        i = rng.integers(0, n)\n",
    "        transform = rand_Gd(dim=d)\n",
    "        walk_pre, walk_post = walk[:,:i+1], walk[:,i+1:]\n",
    "        pivot_point = walk[:,i].reshape(-1,1)\n",
    "        \n",
    "        if i < n / 2:\n",
    "            walk_pre = transform @ (walk_pre - pivot_point) + pivot_point\n",
    "        else:\n",
    "            walk_post = transform @ (walk_post - pivot_point) + pivot_point\n",
    "\n",
    "        walk_pivoted = np.hstack([walk_pre, walk_post])\n",
    "        # if fast_intersect(walk_pre, walk_post):\n",
    "        #     if save_walks:\n",
    "        #         if sample >= burn_in:\n",
    "        #             results.append(walk_pivoted)\n",
    "        #     else:\n",
    "        #         results = walk_pivoted\n",
    "        #     successful_pivots += 1\n",
    "        if is_valid(*walk_pivoted):\n",
    "            successful_pivots += 1\n",
    "            if save_walks:\n",
    "                if sample >= burn_in:\n",
    "                    results.append(walk_pivoted)\n",
    "            else:\n",
    "                results = walk_pivoted\n",
    "            walk = walk_pivoted\n",
    "        elif save_walks and sample >= burn_in:\n",
    "            results.append(walk)\n",
    "    return np.asarray(results), successful_pivots / samples"
   ]
  },
  {
   "cell_type": "code",
   "execution_count": 36,
   "metadata": {},
   "outputs": [
    {
     "name": "stderr",
     "output_type": "stream",
     "text": [
      "100%|██████████| 5000/5000 [00:00<00:00, 19241.57it/s]"
     ]
    },
    {
     "name": "stdout",
     "output_type": "stream",
     "text": [
      "CPU times: user 250 ms, sys: 70.9 ms, total: 321 ms\n",
      "Wall time: 313 ms\n"
     ]
    },
    {
     "name": "stderr",
     "output_type": "stream",
     "text": [
      "\n"
     ]
    },
    {
     "data": {
      "text/plain": [
       "(array([[[  0.,   1.,   2., ...,  83.,  83.,  83.],\n",
       "         [  0.,   0.,   0., ...,  15.,  16.,  17.]],\n",
       " \n",
       "        [[ 12.,  12.,  12., ...,  83.,  83.,  83.],\n",
       "         [-12., -11., -10., ...,  15.,  16.,  17.]],\n",
       " \n",
       "        [[ 14.,  15.,  16., ...,  83.,  83.,  83.],\n",
       "         [-14., -14., -14., ...,  15.,  16.,  17.]],\n",
       " \n",
       "        ...,\n",
       " \n",
       "        [[ 50.,  50.,  51., ...,  40.,  40.,  41.],\n",
       "         [-16., -17., -17., ...,  -6.,  -7.,  -7.]],\n",
       " \n",
       "        [[ 50.,  50.,  51., ...,  40.,  40.,  41.],\n",
       "         [-16., -17., -17., ...,  -6.,  -7.,  -7.]],\n",
       " \n",
       "        [[ 50.,  50.,  51., ...,  40.,  40.,  41.],\n",
       "         [-16., -17., -17., ...,  -6.,  -7.,  -7.]]]),\n",
       " 0.3938)"
      ]
     },
     "execution_count": 36,
     "metadata": {},
     "output_type": "execute_result"
    }
   ],
   "source": [
    "%time pivot(100, int(20*100/0.40))"
   ]
  },
  {
   "cell_type": "code",
   "execution_count": 37,
   "metadata": {},
   "outputs": [
    {
     "name": "stderr",
     "output_type": "stream",
     "text": [
      "100%|██████████| 1000/1000 [00:00<00:00, 7357.91it/s]\n"
     ]
    }
   ],
   "source": [
    "results = pivot(1000, 1000, 100, d=2, save_walks=False)"
   ]
  },
  {
   "cell_type": "code",
   "execution_count": 41,
   "metadata": {},
   "outputs": [
    {
     "name": "stderr",
     "output_type": "stream",
     "text": [
      "100%|██████████| 10000/10000 [00:00<00:00, 47491.04it/s]\n",
      "100%|██████████| 10000/10000 [00:00<00:00, 29959.34it/s]\n",
      "100%|██████████| 10000/10000 [00:00<00:00, 16586.88it/s]\n",
      "100%|██████████| 10000/10000 [00:00<00:00, 12499.10it/s]\n",
      "100%|██████████| 10000/10000 [00:00<00:00, 10637.37it/s]\n",
      "100%|██████████| 10000/10000 [00:01<00:00, 8814.71it/s]\n",
      "100%|██████████| 10000/10000 [00:01<00:00, 6833.49it/s]\n",
      "100%|██████████| 10000/10000 [00:01<00:00, 6145.54it/s]\n",
      "100%|██████████| 10000/10000 [00:01<00:00, 5659.01it/s]\n",
      "100%|██████████| 10000/10000 [00:01<00:00, 5042.80it/s]\n",
      "100%|██████████| 10000/10000 [00:02<00:00, 4303.62it/s]\n",
      "100%|██████████| 10000/10000 [00:02<00:00, 4102.58it/s]\n",
      "100%|██████████| 10000/10000 [00:02<00:00, 3952.00it/s]\n",
      "100%|██████████| 10000/10000 [00:04<00:00, 2350.40it/s]\n",
      "100%|██████████| 10000/10000 [00:04<00:00, 2186.82it/s]\n",
      "100%|██████████| 10000/10000 [00:04<00:00, 2111.92it/s]\n",
      "100%|██████████| 10000/10000 [00:04<00:00, 2134.76it/s]\n",
      "100%|██████████| 10000/10000 [00:05<00:00, 1995.74it/s]\n",
      "100%|██████████| 10000/10000 [00:05<00:00, 1863.79it/s]\n",
      "100%|██████████| 10000/10000 [00:05<00:00, 1789.55it/s]\n",
      "100%|██████████| 10000/10000 [00:05<00:00, 1685.08it/s]\n",
      "100%|██████████| 10000/10000 [00:05<00:00, 1683.26it/s]\n",
      "100%|██████████| 10000/10000 [00:06<00:00, 1601.11it/s]\n",
      "100%|██████████| 10000/10000 [00:06<00:00, 1433.23it/s]\n",
      "100%|██████████| 10000/10000 [00:07<00:00, 1339.41it/s]\n"
     ]
    }
   ],
   "source": [
    "Ns = np.linspace(10, 5000, 25).astype(int)\n",
    "fs = []\n",
    "for N in Ns:\n",
    "    nsamples = 1e6\n",
    "    f = pivot(N, nsamples, d=2, save_walks=False)[1]\n",
    "    fs.append(f)"
   ]
  },
  {
   "cell_type": "code",
   "execution_count": 12,
   "metadata": {},
   "outputs": [],
   "source": [
    "def f(N, C, gamma, D):\n",
    "    return C*N**gamma + D"
   ]
  },
  {
   "cell_type": "code",
   "execution_count": null,
   "metadata": {},
   "outputs": [],
   "source": [
    "from scipy.optimize import curve_fit\n",
    "\n",
    "popt, pcov = curve_fit(f, Ns, fs, p0=[1, -0.1, 0.25], maxfev=10000)\n",
    "plt.plot(Ns, fs, 'o', label='data', c='k')\n",
    "X = np.linspace(10, 5000, 100)\n",
    "plt.plot(X, f(X, *popt), 'r-', label='fit')\n",
    "plt.xlabel('N')\n",
    "plt.ylabel('f')\n",
    "plt.legend()\n",
    "plt.show()\n",
    "np.save('../data/pivot_fit.npy', popt)\n",
    "plt.plot(Ns, np.array(Ns)/f(np.array(Ns), *popt), 'o', c='k')\n",
    "plt.xlabel('N')\n",
    "plt.ylabel('N/f')\n",
    "plt.show()\n"
   ]
  },
  {
   "cell_type": "code",
   "execution_count": 53,
   "metadata": {},
   "outputs": [
    {
     "data": {
      "text/plain": [
       "array([ 1.11014839, -0.44135605,  0.22904723])"
      ]
     },
     "execution_count": 53,
     "metadata": {},
     "output_type": "execute_result"
    }
   ],
   "source": [
    "popt = np.load('../data/pivot_fit.npy')\n",
    "popt"
   ]
  },
  {
   "cell_type": "code",
   "execution_count": 14,
   "metadata": {},
   "outputs": [],
   "source": [
    "def get_burn_in(N):\n",
    "    popt = np.load('../data/pivot_fit.npy')\n",
    "    return int(N/f(N, *popt))"
   ]
  },
  {
   "cell_type": "code",
   "execution_count": 15,
   "metadata": {},
   "outputs": [],
   "source": [
    "import time\n",
    "\n",
    "\n",
    "def find_intersect_time(n, samples, burn_in=0, *, d=2):\n",
    "    \"\"\"\n",
    "    Initialized with a straight line in the 1st dimension and zeros in all other dimensions.\n",
    "    \n",
    "    At every step, we:\n",
    "    1. choose a random point on the line, and use it as a pivot point\n",
    "    2. choose a random transformation from the set of possible transformations\n",
    "    3. apply the transformation to the part of the walk before the pivot point around the pivot point\n",
    "        (i.e. using it as the origin)\n",
    "    4. if the resulting walk is valid (i.e. non-intersecting), keep it. otherwise, discard it!\n",
    "    \"\"\"\n",
    "    walk = np.zeros((d, n+1))\n",
    "    walk[0] = np.arange(n+1)\n",
    "\n",
    "    times = []\n",
    "\n",
    "    successful_pivots = 0\n",
    "    for sample in trange(samples):\n",
    "        i = rng.integers(0, n)\n",
    "        transform = rand_Gd(dim=d)\n",
    "        walk_pre, walk_post = walk[:,:i+1], walk[:,i+1:]\n",
    "        pivot_point = walk[:,i].reshape(-1,1)\n",
    "        \n",
    "        if i < n / 2:\n",
    "            walk_pre = transform @ (walk_pre - pivot_point) + pivot_point\n",
    "        else:\n",
    "            walk_post = transform @ (walk_post - pivot_point) + pivot_point\n",
    "\n",
    "        walk_pivoted = np.hstack([walk_pre, walk_post])\n",
    "\n",
    "        t0 = time.time()\n",
    "        if is_valid(*walk_pivoted):\n",
    "            times.append(time.time() - t0)\n",
    "            successful_pivots += 1\n",
    "            walk = walk_pivoted\n",
    "        else:\n",
    "            times.append(time.time() - t0)\n",
    "    return times"
   ]
  },
  {
   "cell_type": "code",
   "execution_count": 16,
   "metadata": {},
   "outputs": [
    {
     "name": "stderr",
     "output_type": "stream",
     "text": [
      "100%|██████████| 10015/10015 [00:00<00:00, 39604.09it/s]\n",
      "100%|██████████| 11900/11900 [00:00<00:00, 12127.19it/s]\n",
      "100%|██████████| 14004/14004 [00:02<00:00, 6886.10it/s]\n",
      " 40%|███▉      | 6401/16173 [00:01<00:02, 4426.66it/s]\n"
     ]
    },
    {
     "ename": "KeyboardInterrupt",
     "evalue": "",
     "output_type": "error",
     "traceback": [
      "\u001b[0;31m---------------------------------------------------------------------------\u001b[0m",
      "\u001b[0;31mKeyboardInterrupt\u001b[0m                         Traceback (most recent call last)",
      "\u001b[1;32m/Users/youngsam/Desktop/Classes/PHYS212/polymers/notebooks/self-avoiding_walk.ipynb Cell 17\u001b[0m line \u001b[0;36m7\n\u001b[1;32m      <a href='vscode-notebook-cell:/Users/youngsam/Desktop/Classes/PHYS212/polymers/notebooks/self-avoiding_walk.ipynb#Y121sZmlsZQ%3D%3D?line=4'>5</a>\u001b[0m \u001b[39mfor\u001b[39;00m N \u001b[39min\u001b[39;00m Ns:\n\u001b[1;32m      <a href='vscode-notebook-cell:/Users/youngsam/Desktop/Classes/PHYS212/polymers/notebooks/self-avoiding_walk.ipynb#Y121sZmlsZQ%3D%3D?line=5'>6</a>\u001b[0m     burn_in \u001b[39m=\u001b[39m get_burn_in(N)\n\u001b[0;32m----> <a href='vscode-notebook-cell:/Users/youngsam/Desktop/Classes/PHYS212/polymers/notebooks/self-avoiding_walk.ipynb#Y121sZmlsZQ%3D%3D?line=6'>7</a>\u001b[0m     times \u001b[39m=\u001b[39m find_intersect_time(N, burn_in\u001b[39m+\u001b[39;49m\u001b[39m10000\u001b[39;49m, burn_in\u001b[39m=\u001b[39;49mburn_in, d\u001b[39m=\u001b[39;49m\u001b[39m3\u001b[39;49m)\n\u001b[1;32m      <a href='vscode-notebook-cell:/Users/youngsam/Desktop/Classes/PHYS212/polymers/notebooks/self-avoiding_walk.ipynb#Y121sZmlsZQ%3D%3D?line=7'>8</a>\u001b[0m     avg_times\u001b[39m.\u001b[39mappend(np\u001b[39m.\u001b[39mmean(times))\n\u001b[1;32m      <a href='vscode-notebook-cell:/Users/youngsam/Desktop/Classes/PHYS212/polymers/notebooks/self-avoiding_walk.ipynb#Y121sZmlsZQ%3D%3D?line=8'>9</a>\u001b[0m     std_times\u001b[39m.\u001b[39mappend(np\u001b[39m.\u001b[39mstd(times))\n",
      "\u001b[1;32m/Users/youngsam/Desktop/Classes/PHYS212/polymers/notebooks/self-avoiding_walk.ipynb Cell 17\u001b[0m line \u001b[0;36m3\n\u001b[1;32m     <a href='vscode-notebook-cell:/Users/youngsam/Desktop/Classes/PHYS212/polymers/notebooks/self-avoiding_walk.ipynb#Y121sZmlsZQ%3D%3D?line=31'>32</a>\u001b[0m walk_pivoted \u001b[39m=\u001b[39m np\u001b[39m.\u001b[39mhstack([walk_pre, walk_post])\n\u001b[1;32m     <a href='vscode-notebook-cell:/Users/youngsam/Desktop/Classes/PHYS212/polymers/notebooks/self-avoiding_walk.ipynb#Y121sZmlsZQ%3D%3D?line=33'>34</a>\u001b[0m t0 \u001b[39m=\u001b[39m time\u001b[39m.\u001b[39mtime()\n\u001b[0;32m---> <a href='vscode-notebook-cell:/Users/youngsam/Desktop/Classes/PHYS212/polymers/notebooks/self-avoiding_walk.ipynb#Y121sZmlsZQ%3D%3D?line=34'>35</a>\u001b[0m \u001b[39mif\u001b[39;00m is_valid(\u001b[39m*\u001b[39;49mwalk_pivoted):\n\u001b[1;32m     <a href='vscode-notebook-cell:/Users/youngsam/Desktop/Classes/PHYS212/polymers/notebooks/self-avoiding_walk.ipynb#Y121sZmlsZQ%3D%3D?line=35'>36</a>\u001b[0m     times\u001b[39m.\u001b[39mappend(time\u001b[39m.\u001b[39mtime() \u001b[39m-\u001b[39m t0)\n\u001b[1;32m     <a href='vscode-notebook-cell:/Users/youngsam/Desktop/Classes/PHYS212/polymers/notebooks/self-avoiding_walk.ipynb#Y121sZmlsZQ%3D%3D?line=36'>37</a>\u001b[0m     successful_pivots \u001b[39m+\u001b[39m\u001b[39m=\u001b[39m \u001b[39m1\u001b[39m\n",
      "\u001b[1;32m/Users/youngsam/Desktop/Classes/PHYS212/polymers/notebooks/self-avoiding_walk.ipynb Cell 17\u001b[0m line \u001b[0;36m5\n\u001b[1;32m      <a href='vscode-notebook-cell:/Users/youngsam/Desktop/Classes/PHYS212/polymers/notebooks/self-avoiding_walk.ipynb#Y121sZmlsZQ%3D%3D?line=0'>1</a>\u001b[0m \u001b[39mdef\u001b[39;00m \u001b[39mis_valid\u001b[39m(\u001b[39m*\u001b[39mdims):\n\u001b[1;32m      <a href='vscode-notebook-cell:/Users/youngsam/Desktop/Classes/PHYS212/polymers/notebooks/self-avoiding_walk.ipynb#Y121sZmlsZQ%3D%3D?line=1'>2</a>\u001b[0m \u001b[39m    \u001b[39m\u001b[39m\"\"\"\u001b[39;00m\n\u001b[1;32m      <a href='vscode-notebook-cell:/Users/youngsam/Desktop/Classes/PHYS212/polymers/notebooks/self-avoiding_walk.ipynb#Y121sZmlsZQ%3D%3D?line=2'>3</a>\u001b[0m \u001b[39m    Checks if the walk is non-intersecting by checking for any duplicates (x,y) coordinates.\u001b[39;00m\n\u001b[1;32m      <a href='vscode-notebook-cell:/Users/youngsam/Desktop/Classes/PHYS212/polymers/notebooks/self-avoiding_walk.ipynb#Y121sZmlsZQ%3D%3D?line=3'>4</a>\u001b[0m \u001b[39m    \"\"\"\u001b[39;00m\n\u001b[0;32m----> <a href='vscode-notebook-cell:/Users/youngsam/Desktop/Classes/PHYS212/polymers/notebooks/self-avoiding_walk.ipynb#Y121sZmlsZQ%3D%3D?line=4'>5</a>\u001b[0m     \u001b[39mreturn\u001b[39;00m \u001b[39mlen\u001b[39m(dims[\u001b[39m0\u001b[39m]) \u001b[39m==\u001b[39m \u001b[39mlen\u001b[39m(\u001b[39mset\u001b[39;49m(\u001b[39mzip\u001b[39;49m(\u001b[39m*\u001b[39;49mdims)))\n",
      "\u001b[0;31mKeyboardInterrupt\u001b[0m: "
     ]
    }
   ],
   "source": [
    "avg_times = []\n",
    "std_times = []\n",
    "\n",
    "Ns = np.linspace(10, 5000, 10).astype(int)\n",
    "for N in Ns:\n",
    "    burn_in = get_burn_in(N)\n",
    "    times = find_intersect_time(N, burn_in+10000, burn_in=burn_in, d=3)\n",
    "    avg_times.append(np.mean(times))\n",
    "    std_times.append(np.std(times))"
   ]
  },
  {
   "cell_type": "code",
   "execution_count": 49,
   "metadata": {},
   "outputs": [],
   "source": [
    "avg_times = np.array(avg_times)\n",
    "std_times = np.array(std_times)"
   ]
  },
  {
   "cell_type": "code",
   "execution_count": 51,
   "metadata": {},
   "outputs": [
    {
     "data": {
      "text/plain": [
       "<ErrorbarContainer object of 3 artists>"
      ]
     },
     "execution_count": 51,
     "metadata": {},
     "output_type": "execute_result"
    },
    {
     "data": {
      "image/png": "[encoded data removed]",
      "text/plain": [
       "<Figure size 640x480 with 1 Axes>"
      ]
     },
     "metadata": {},
     "output_type": "display_data"
    }
   ],
   "source": [
    "plt.errorbar(Ns, avg_times, yerr=std_times, ls='dotted', c='k')"
   ]
  },
  {
   "cell_type": "code",
   "execution_count": 58,
   "metadata": {},
   "outputs": [],
   "source": [
    "def model(N, Dx, bx, deltaNx, Delta1, nu, Nmin):\n",
    "    N = N[N>=Nmin]\n",
    "    return Dx * (N+deltaNx)**(2*nu) * (1 + bx / (N+deltaNx)**Delta1)"
   ]
  },
  {
   "cell_type": "code",
   "execution_count": 34,
   "metadata": {},
   "outputs": [],
   "source": [
    "def batch_pivot(n, sample_size, batch_size, burn_in=None, *, d=2, save_walks=True):\n",
    "    \"\"\"\n",
    "    Initialized with a straight line in the 1st dimension and zeros in all other dimensions.\n",
    "    \n",
    "    At every step, we:\n",
    "    1. choose a random point on the line, and use it as a pivot point\n",
    "    2. choose a random transformation from the set of possible transformations\n",
    "    3. apply the transformation to the part of the walk before the pivot point around the pivot point\n",
    "        (i.e. using it as the origin)\n",
    "    4. if the resulting walk is valid (i.e. non-intersecting), keep it. otherwise, discard it!\n",
    "    \"\"\"\n",
    "    walk = np.zeros((d, n+1))\n",
    "    walk[0] = np.arange(n+1)\n",
    "    if burn_in is None:\n",
    "        burn_in = get_burn_in(n)\n",
    "\n",
    "    results = []\n",
    "\n",
    "    Re2s = []\n",
    "    for sample in trange(sample_size):\n",
    "        i = rng.integers(0, n)\n",
    "        transform = rand_Gd(dim=d)\n",
    "        walk_pre, walk_post = walk[:,:i+1], walk[:,i+1:]\n",
    "        pivot_point = walk[:,i].reshape(-1,1)\n",
    "        \n",
    "        if i < n / 2:\n",
    "            walk_pre = transform @ (walk_pre - pivot_point) + pivot_point\n",
    "        else:\n",
    "            walk_post = transform @ (walk_post - pivot_point) + pivot_point\n",
    "\n",
    "        walk_pivoted = np.hstack([walk_pre, walk_post])\n",
    "\n",
    "        if is_valid(*walk_pivoted):\n",
    "            if sample >= burn_in and sample % batch_size == 0:\n",
    "                Re2s.append(Re2(walk))\n",
    "            walk = walk_pivoted\n",
    "        elif save_walks and sample >= burn_in:\n",
    "            results.append(walk)\n",
    "    return Re2s"
   ]
  },
  {
   "cell_type": "code",
   "execution_count": 37,
   "metadata": {},
   "outputs": [
    {
     "name": "stderr",
     "output_type": "stream",
     "text": [
      "  0%|          | 0/25015 [00:00<?, ?it/s]"
     ]
    },
    {
     "name": "stderr",
     "output_type": "stream",
     "text": [
      "100%|██████████| 25015/25015 [00:00<00:00, 52539.70it/s]\n",
      "100%|██████████| 27494/27494 [00:02<00:00, 12063.83it/s]\n",
      "100%|██████████| 30246/30246 [00:04<00:00, 6104.92it/s]\n",
      "100%|██████████| 33064/33064 [00:08<00:00, 4131.16it/s]\n",
      "100%|██████████| 35925/35925 [00:16<00:00, 2201.88it/s]\n",
      "100%|██████████| 38808/38808 [00:21<00:00, 1798.16it/s]\n",
      "100%|██████████| 41714/41714 [00:27<00:00, 1528.88it/s]\n",
      "100%|██████████| 44634/44634 [00:39<00:00, 1137.89it/s]\n",
      "100%|██████████| 47562/47562 [00:48<00:00, 972.50it/s] \n",
      "100%|██████████| 50503/50503 [00:55<00:00, 909.28it/s] \n",
      "100%|██████████| 53449/53449 [01:08<00:00, 777.12it/s]\n",
      "100%|██████████| 56406/56406 [01:14<00:00, 752.87it/s]\n",
      "100%|██████████| 59364/59364 [01:24<00:00, 701.28it/s]\n",
      "100%|██████████| 62333/62333 [01:39<00:00, 625.19it/s]\n",
      "100%|██████████| 65306/65306 [01:53<00:00, 577.01it/s]\n"
     ]
    }
   ],
   "source": [
    "avg_Re2s = []\n",
    "std_Re2s = []\n",
    "\n",
    "Ns = np.linspace(10, 10000, 15).astype(int)\n",
    "for N in Ns:\n",
    "    burn_in = get_burn_in(N)\n",
    "    Re2s = batch_pivot(N, burn_in+10**6, 250, burn_in=burn_in, d=2)\n",
    "    avg_Re2s.append(np.mean(Re2s))\n",
    "    std_Re2s.append(np.std(Re2s))"
   ]
  },
  {
   "cell_type": "code",
   "execution_count": 39,
   "metadata": {},
   "outputs": [
    {
     "data": {
      "text/plain": [
       "<ErrorbarContainer object of 3 artists>"
      ]
     },
     "execution_count": 39,
     "metadata": {},
     "output_type": "execute_result"
    },
    {
     "data": {
      "image/png": "[encoded data removed]",
      "text/plain": [
       "<Figure size 640x480 with 1 Axes>"
      ]
     },
     "metadata": {},
     "output_type": "display_data"
    }
   ],
   "source": [
    "np.save('../data/Re2s.npy', np.array([Ns, avg_Re2s, std_Re2s]))\n",
    "plt.errorbar(Ns, avg_Re2s, yerr=std_Re2s, ls='dotted', c='k')"
   ]
  },
  {
   "cell_type": "code",
   "execution_count": 51,
   "metadata": {},
   "outputs": [
    {
     "name": "stdout",
     "output_type": "stream",
     "text": [
      "10,270.8666666666667\n",
      "723,97161315.84615384\n",
      "1437,774021347.6896552\n",
      "2150,2509003658.428571\n",
      "2864,5791468934.285714\n",
      "3577,11891823214.076923\n",
      "4291,19558168101.04\n",
      "5005,30657983201.8\n",
      "5718,47561488747.42105\n",
      "6432,65331850455.75\n",
      "7145,95233012589.66667\n",
      "7859,126444793889.52942\n",
      "8572,160950599675.26315\n",
      "9286,202337472297.66666\n",
      "10000,252652501786.25\n"
     ]
    }
   ],
   "source": [
    "for i in range(len(Ns)):\n",
    "    print(str(Ns[i])+','+str(avg_Re2s[i]))"
   ]
  },
  {
   "cell_type": "code",
   "execution_count": 2,
   "metadata": {},
   "outputs": [],
   "source": [
    "with open('Re2s.txt', 'w') as f:\n",
    "    f.write(\"\"\"10,270.8666666666667\n",
    "723,97161315.84615384\n",
    "1437,774021347.6896552\n",
    "2150,2509003658.428571\n",
    "2864,5791468934.285714\n",
    "3577,11891823214.076923\n",
    "4291,19558168101.04\n",
    "5005,30657983201.8\n",
    "5718,47561488747.42105\n",
    "6432,65331850455.75\n",
    "7145,95233012589.66667\n",
    "7859,126444793889.52942\n",
    "8572,160950599675.26315\n",
    "9286,202337472297.66666\n",
    "10000,252652501786.25\"\"\")"
   ]
  },
  {
   "cell_type": "code",
   "execution_count": 5,
   "metadata": {},
   "outputs": [
    {
     "data": {
      "text/plain": [
       "array([[1.00000000e+01, 7.23000000e+02, 1.43700000e+03, 2.15000000e+03,\n",
       "        2.86400000e+03, 3.57700000e+03, 4.29100000e+03, 5.00500000e+03,\n",
       "        5.71800000e+03, 6.43200000e+03, 7.14500000e+03, 7.85900000e+03,\n",
       "        8.57200000e+03, 9.28600000e+03, 1.00000000e+04],\n",
       "       [2.70866667e+02, 9.71613158e+07, 7.74021348e+08, 2.50900366e+09,\n",
       "        5.79146893e+09, 1.18918232e+10, 1.95581681e+10, 3.06579832e+10,\n",
       "        4.75614887e+10, 6.53318505e+10, 9.52330126e+10, 1.26444794e+11,\n",
       "        1.60950600e+11, 2.02337472e+11, 2.52652502e+11]])"
      ]
     },
     "execution_count": 5,
     "metadata": {},
     "output_type": "execute_result"
    }
   ],
   "source": [
    "import numpy as np\n",
    "\n",
    "Re2s = np.loadtxt('Re2s.txt', delimiter=',')\n",
    "Re2s.T"
   ]
  },
  {
   "cell_type": "code",
   "execution_count": 24,
   "metadata": {},
   "outputs": [
    {
     "name": "stdout",
     "output_type": "stream",
     "text": [
      "0.3164 ± 0.0698\n",
      "1.4879 ± 0.0121\n"
     ]
    },
    {
     "name": "stderr",
     "output_type": "stream",
     "text": [
      "/var/folders/w7/xwdclb5101q6zdxfxf7910pr0000gp/T/ipykernel_79645/991968904.py:2: RuntimeWarning: overflow encountered in power\n",
      "  return Dx * (N)**(2*nu) # * (1 + bx / (N+abs(dN))**Delta1)\n"
     ]
    }
   ],
   "source": [
    "def model(N, Dx, nu):\n",
    "    return Dx * (N)**(2*nu) # * (1 + bx / (N+abs(dN))**Delta1)\n",
    "\n",
    "ns, re = Re2s.T\n",
    "\n",
    "from scipy.optimize import curve_fit\n",
    "popt, pcov = curve_fit(model,*Re2s.T, p0=[1.22, 3/4], maxfev=10000)\n",
    "for v,err in zip(popt, np.sqrt(np.diag(pcov))):\n",
    "    print(f'{v:.4f} ± {err:.4f}')"
   ]
  },
  {
   "cell_type": "code",
   "execution_count": 208,
   "metadata": {},
   "outputs": [],
   "source": [
    "walk1 = naive_self_avoiding_walk(3)\n",
    "walk2 = naive_self_avoiding_walk(3)\n",
    "\n",
    "def is_valid_two(walk1, walk2):\n",
    "    walk2_shifted = walk2 + walk1[:,-1].reshape(-1,1)\n",
    "    return len(set(zip(*walk1))) == len(walk1) and len(set(zip(*walk2))) == len(walk2) and len(set(zip(*np.hstack([walk1, walk2])))) == len(walk1) + len(walk2)"
   ]
  },
  {
   "cell_type": "code",
   "execution_count": 214,
   "metadata": {},
   "outputs": [
    {
     "data": {
      "text/plain": [
       "True"
      ]
     },
     "execution_count": 214,
     "metadata": {},
     "output_type": "execute_result"
    }
   ],
   "source": [
    "walk2_shifted = walk2 + walk1[:,-1].reshape(-1,1)\n",
    "set(zip(*walk1)).isdisjoint(set(zip(*walk2_shifted[:,1:])))"
   ]
  }
 ],
 "metadata": {
  "kernelspec": {
   "display_name": "duneml",
   "language": "python",
   "name": "python3"
  },
  "language_info": {
   "codemirror_mode": {
    "name": "ipython",
    "version": 3
   },
   "file_extension": ".py",
   "mimetype": "text/x-python",
   "name": "python",
   "nbconvert_exporter": "python",
   "pygments_lexer": "ipython3",
   "version": "3.10.8"
  }
 },
 "nbformat": 4,
 "nbformat_minor": 2
}
